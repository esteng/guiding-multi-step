{
 "cells": [
  {
   "cell_type": "code",
   "execution_count": 1,
   "source": [
    "import json \n",
    "\n",
    "from scipy.stats import wilcoxon \n",
    "import numpy as np \n"
   ],
   "outputs": [],
   "metadata": {}
  },
  {
   "cell_type": "code",
   "execution_count": null,
   "source": [
    "# UNet \n",
    "\n",
    "with open(\"/srv/local1/estengel/models/unet_bisk_image_glove_no_reconstruction/filtered_test_metrics_sig.json\") as f1:\n",
    "    unet_data = json.load(f1)\n",
    "\n",
    "\n",
    "with open(\"/srv/local1/estengel/models/transformer_bisk_images_bert_small_patch_recon_no_pos_encoding/filtered_test_metrics_sig.json\") as f1:\n",
    "    tfmr_bert_data = json.load(f1)\n",
    "\n",
    "with open(\"/srv/local2/estengel/models/transformer_image_tuning/small_patch_glove_3/filtered_test_metrics_sig.json\") as f1:\n",
    "    tfmr_glove_data = json.load(f1)\n",
    "\n",
    "\n",
    "unet_block_accs = np.array(unet_data['block_acc'])\n",
    "unet_tele_scores = np.array(unet_data['tele_score']) \n",
    "\n",
    "tfmr_bert_block_accs = np.array(tfmr_bert_data['block_acc'])\n",
    "tfmr_bert_tele_scores = np.array(tfmr_bert_data['tele_score']) \n",
    "\n",
    "tfmr_glove_block_accs = np.array(tfmr_glove_data['block_acc'])\n",
    "tfmr_glove_tele_scores = np.array(tfmr_glove_data['tele_score']) \n",
    "\n",
    "\n",
    "print(f\"UNet different from BERT\")\n",
    "print(f\"\\tBlock accs: {wilcoxon(unet_block_accs, tfmr_bert_block_accs)}\")\n",
    "print(f\"\\tTele scores: {wilcoxon(unet_tele_scores, tfmr_bert_tele_scores)}\")\n",
    "\n",
    "print(f\"UNet different from Glove\")\n",
    "print(f\"\\tBlock accs: {wilcoxon(unet_block_accs, tfmr_glove_block_accs)}\")\n",
    "print(f\"\\tTele scores: {wilcoxon(unet_tele_scores, tfmr_glove_tele_scores)}\")\n",
    "\n",
    "print(f\"BERT different from Glove\")\n",
    "print(f\"\\tBlock accs: {wilcoxon(tfmr_bert_block_accs, tfmr_glove_block_accs)}\")\n",
    "print(f\"\\tTele scores: {wilcoxon(tfmr_bert_tele_scores, tfmr_glove_tele_scores)}\")"
   ],
   "outputs": [
    {
     "output_type": "stream",
     "name": "stdout",
     "text": [
      "WilcoxonResult(statistic=41650.0, pvalue=5.569394991016913e-38)\n",
      "WilcoxonResult(statistic=296703.0, pvalue=1.2593144252264626e-11)\n"
     ]
    }
   ],
   "metadata": {}
  },
  {
   "cell_type": "code",
   "execution_count": null,
   "source": [],
   "outputs": [],
   "metadata": {}
  }
 ],
 "metadata": {
  "orig_nbformat": 4,
  "language_info": {
   "name": "python",
   "version": "3.6.12",
   "mimetype": "text/x-python",
   "codemirror_mode": {
    "name": "ipython",
    "version": 3
   },
   "pygments_lexer": "ipython3",
   "nbconvert_exporter": "python",
   "file_extension": ".py"
  },
  "kernelspec": {
   "name": "python3",
   "display_name": "Python 3.6.12 64-bit"
  },
  "interpreter": {
   "hash": "80b57d3b473cded757c1c09da496d17d13901a1bde76b141e0b4105d5712fb37"
  }
 },
 "nbformat": 4,
 "nbformat_minor": 2
}